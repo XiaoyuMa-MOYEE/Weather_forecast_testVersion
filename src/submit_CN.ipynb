{
 "cells": [
  {
   "metadata": {},
   "cell_type": "markdown",
   "source": "## 主要函数",
   "id": "5fc8861d2217ce1"
  },
  {
   "metadata": {},
   "cell_type": "code",
   "source": [
    "from utils import greet\n",
    "\n",
    "def main():\n",
    "    name = input(\"What is your name? \")\n",
    "    message = greet(name)\n",
    "    print(message)\n",
    "#better way to run the main code\n",
    "if __name__ == \"__main__\":\n",
    "    main()"
   ],
   "id": "d7884d3350b4bfd3",
   "outputs": [],
   "execution_count": null
  },
  {
   "metadata": {
    "ExecuteTime": {
     "end_time": "2025-05-06T01:18:00.273986Z",
     "start_time": "2025-05-06T01:18:00.125472Z"
    }
   },
   "cell_type": "code",
   "source": [
    "import ipywidgets as widgets\n",
    "from IPython.display import display\n",
    "\n",
    "# 创建一个整数滑块\n",
    "slider = widgets.IntSlider(value=10, min=0, max=100)\n",
    "\n",
    "# 创建一个文本显示器\n",
    "text = widgets.IntText()\n",
    "\n",
    "# 把两个组件绑定在一起\n",
    "widgets.jslink((slider, 'value'), (text, 'value'))\n",
    "\n",
    "# 显示组件\n",
    "display(slider, text)\n"
   ],
   "id": "7aac3ffea3ec11dc",
   "outputs": [
    {
     "data": {
      "text/plain": [
       "IntSlider(value=10)"
      ],
      "application/vnd.jupyter.widget-view+json": {
       "version_major": 2,
       "version_minor": 0,
       "model_id": "8d354cbdabb9444d910f8b9fb6270e1b"
      }
     },
     "metadata": {},
     "output_type": "display_data"
    },
    {
     "data": {
      "text/plain": [
       "IntText(value=0)"
      ],
      "application/vnd.jupyter.widget-view+json": {
       "version_major": 2,
       "version_minor": 0,
       "model_id": "c4781af9e7c94634b61cf220266b8138"
      }
     },
     "metadata": {},
     "output_type": "display_data"
    }
   ],
   "execution_count": 2
  }
 ],
 "metadata": {},
 "nbformat": 4,
 "nbformat_minor": 5
}
