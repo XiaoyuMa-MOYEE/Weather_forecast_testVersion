{
 "cells": [
  {
   "metadata": {},
   "cell_type": "markdown",
   "source": "",
   "id": "fb522b16047e4c63"
  },
  {
   "metadata": {
    "ExecuteTime": {
     "end_time": "2025-05-12T01:14:55.923561Z",
     "start_time": "2025-05-12T01:14:55.899764Z"
    }
   },
   "cell_type": "code",
   "source": [
    "import ipywidgets as widgets\n",
    "from IPython.display import display\n",
    "\n",
    "# 创建按钮\n",
    "button = widgets.Button(description=\"点击我\")\n",
    "\n",
    "# 创建一个标签，用于显示按钮点击后的消息\n",
    "label = widgets.Label(value=\"请点击按钮\")\n",
    "\n",
    "# 按钮点击时的回调函数\n",
    "def on_button_click(b):\n",
    "    label.value = \"按钮已点击!\"\n",
    "\n",
    "# 绑定按钮点击事件\n",
    "button.on_click(on_button_click)\n",
    "\n",
    "# 显示按钮和标签\n",
    "display(button, label)\n"
   ],
   "id": "4f93e4b10a1e122c",
   "outputs": [
    {
     "data": {
      "text/plain": [
       "Button(description='点击我', style=ButtonStyle())"
      ],
      "application/vnd.jupyter.widget-view+json": {
       "version_major": 2,
       "version_minor": 0,
       "model_id": "ae3caa54814647ee803d5181a540c5bb"
      }
     },
     "metadata": {},
     "output_type": "display_data"
    },
    {
     "data": {
      "text/plain": [
       "Label(value='请点击按钮')"
      ],
      "application/vnd.jupyter.widget-view+json": {
       "version_major": 2,
       "version_minor": 0,
       "model_id": "512c9eae3f9f472fbaabb5e81a24d125"
      }
     },
     "metadata": {},
     "output_type": "display_data"
    }
   ],
   "execution_count": 3
  }
 ],
 "metadata": {},
 "nbformat": 4,
 "nbformat_minor": 5
}
