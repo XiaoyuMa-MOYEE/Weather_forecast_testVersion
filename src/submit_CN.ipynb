{
 "cells": [
  {
   "metadata": {},
   "cell_type": "markdown",
   "source": "## 主要函数",
   "id": "5fc8861d2217ce1"
  },
  {
   "metadata": {
    "ExecuteTime": {
     "end_time": "2025-05-05T01:54:56.419770Z",
     "start_time": "2025-05-05T01:54:46.038139Z"
    }
   },
   "cell_type": "code",
   "source": [
    "from utils import greet\n",
    "\n",
    "def main():\n",
    "    name = input(\"What is your name? \")\n",
    "    message = greet(name)\n",
    "    print(message)\n",
    "#better way to run the main code\n",
    "if __name__ == \"__main__\":\n",
    "    main()"
   ],
   "id": "d7884d3350b4bfd3",
   "outputs": [
    {
     "name": "stdout",
     "output_type": "stream",
     "text": [
      "你好，aaa\n"
     ]
    }
   ],
   "execution_count": 3
  }
 ],
 "metadata": {},
 "nbformat": 4,
 "nbformat_minor": 5
}
