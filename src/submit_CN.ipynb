{
 "cells": [
  {
   "metadata": {},
   "cell_type": "markdown",
   "source": "# 天气预报项目测试文件",
   "id": "a1cd0143211ad24f"
  },
  {
   "metadata": {},
   "cell_type": "markdown",
   "source": "### 获得天气数据",
   "id": "14a34a8f59853df7"
  },
  {
   "metadata": {
    "ExecuteTime": {
     "end_time": "2025-05-18T10:39:36.828114Z",
     "start_time": "2025-05-18T10:39:36.296362Z"
    }
   },
   "cell_type": "code",
   "source": [
    "# 旧的用于获取天气的api代码\n",
    "'''\n",
    "## 使用API获得数据的旧代码\n",
    "# def test_of_data():\n",
    "#     city = \"Perth\"\n",
    "#     # 发送 GET 请求\n",
    "#     # 标准化格式\n",
    "#     # response = requests.get(f'https://wttr.in/{city}?3&format=%l:+%c+%t+%C+%w')\n",
    "#     # %l: 地址\n",
    "#     # %c: 当前天气图标\n",
    "#     # %t: 温度\n",
    "#     # %C：天气描述\n",
    "#     # %w: 风速\n",
    "#     # 输出响应内容\n",
    "#\n",
    "#     # 访问默认格式\n",
    "#     response = requests.get(f'https://wttr.in/{city}?format=j1')\n",
    "#     data = response.json()\n",
    "#     #输出完整data用于观察数据格式\n",
    "#     print(data)\n",
    "#     # 访问未来三天的数据\n",
    "#     for day in data['weather']:\n",
    "#         date = day['date']\n",
    "#         maxtemp = day['maxtempC']\n",
    "#         mintemp = day['mintempC']\n",
    "#         description = day['hourly'][4]['weatherDesc'][0]['value']  # 中午的天气\n",
    "#         print(f\"{date}: {description}, {mintemp}°C ~ {maxtemp}°C\")\n",
    "#         print(len(data['weather']))\n",
    "'''\n",
    "from collections import defaultdict\n",
    "\n",
    "import requests\n",
    "\n",
    "\n",
    "# 获取天气数据（返回JSON数据）\n",
    "def get_weather_forecast(city, max_day):\n",
    "    \"\"\"\n",
    "    每个函数需要包含一个文档描述，其中包含函数说明，输入和输出示例\n",
    "    :param city:城市名称\n",
    "    :param max_day:1-5的正整数\n",
    "    \"\"\"\n",
    "    # api's key\n",
    "    api_key = \"56d26083c4e5d4828784871da1b7b0b3\"\n",
    "    # api\n",
    "    url = \"https://api.openweathermap.org/data/2.5/forecast\"\n",
    "    params = {\"q\": city, \"appid\": api_key, \"units\": \"metric\", \"lang\": \"zh_cn\"  # todo:修改语言\n",
    "              }\n",
    "    try:\n",
    "        response = requests.get(url, params=params)\n",
    "        # 若无响应则抛出异常\n",
    "        response.raise_for_status()\n",
    "        data = response.json()\n",
    "        # 尝试输出\n",
    "        # print(data)\n",
    "\n",
    "        if response.status_code != 200:\n",
    "            print(\"请求失败:\", data.get(\"message\", \"未知错误\"))\n",
    "            return None\n",
    "\n",
    "        # 按天整理每3小时的天气数据\n",
    "        forecast_by_day = defaultdict(list)\n",
    "        for item in data[\"list\"]:\n",
    "            # 日期\n",
    "            date = item[\"dt_txt\"].split(\" \")[0]\n",
    "            # 温度\n",
    "            temp = item[\"main\"][\"temp\"]\n",
    "            # 描述\n",
    "            desc = item[\"weather\"][0][\"description\"]\n",
    "            # 风速\n",
    "            speed = item[\"wind\"][\"speed\"]\n",
    "            # 湿度\n",
    "            humidity = item[\"main\"][\"humidity\"]\n",
    "            # 降水率\n",
    "            pop = item.get(\"pop\", 0)\n",
    "            time = item[\"dt_txt\"]\n",
    "            forecast_by_day[date].append((time, temp, desc, speed, humidity, pop))\n",
    "\n",
    "        # 输出每日天气（优先取 12:00 的数据）\n",
    "        # print(f\"城市：{data['city']['name']}\")\n",
    "        result = {\"city\": data[\"city\"][\"name\"], \"forecast\": []}\n",
    "        for date, items in list(forecast_by_day.items())[:max_day]:  # 最多5天\n",
    "            # 选取12:00或默认第一条\n",
    "            mid = next((x for x in items if \"12:00\" in x[0]), items[0])\n",
    "            # 测试语句\n",
    "            # print(f\"日期：{date},天气情况：{mid[2]},气温：{mid[1]}°C,风速:{mid[3]}, 湿度:{mid[4]},降水率:{mid[5]}\")\n",
    "\n",
    "            result[\"forecast\"].append(\n",
    "                {\"date\": date, \"time\": mid[0], \"temperature\": mid[1], \"description\": mid[2], \"speed\": mid[3],\n",
    "                 \"humidity\": mid[4], \"pop\": mid[5]\n",
    "\n",
    "                 })\n",
    "\n",
    "        return result, forecast_by_day  # result 是天气概述，data是具体天气数据，用于获得折线图\n",
    "    except requests.exceptions.RequestException as e:  # 捕获所有requests相关的异常\n",
    "        print(f\"网络请求失败：请检查网络链接\\n{e}\")\n",
    "        return None  # 返回失败的返回值"
   ],
   "id": "fd4169d00a32f0bf",
   "outputs": [],
   "execution_count": 1
  },
  {
   "metadata": {},
   "cell_type": "markdown",
   "source": "### 自然语言处理",
   "id": "351adf4c8a32747d"
  },
  {
   "metadata": {
    "ExecuteTime": {
     "end_time": "2025-05-18T10:39:37.025406Z",
     "start_time": "2025-05-18T10:39:37.015945Z"
    }
   },
   "cell_type": "code",
   "source": [
    "import re\n",
    "\n",
    "\n",
    "# 定义处理函数\n",
    "def res_pop():\n",
    "    return \"pop\"\n",
    "\n",
    "\n",
    "def res_describe_weather():\n",
    "    return \"describe\"\n",
    "\n",
    "\n",
    "def res_clothing():\n",
    "    return \"temperature\"\n",
    "\n",
    "\n",
    "def res_temperature():\n",
    "    return \"temperature\"\n",
    "\n",
    "\n",
    "def res_wind():\n",
    "    return \"wind\"\n",
    "\n",
    "\n",
    "def res_humidity():\n",
    "    return \"humidity\"\n",
    "\n",
    "\n",
    "# 问题和响应的映射字典\n",
    "response_mapping = {\n",
    "    \"umbrella\": res_pop,\n",
    "    \"rain\": res_pop,\n",
    "    \"precipitation\": res_pop,\n",
    "    \"wet\": res_pop,\n",
    "    \"showers\": res_pop,\n",
    "    \"rainy\": res_pop,\n",
    "    \"storms\": res_pop,\n",
    "    \"need an umbrella\": res_pop,\n",
    "\n",
    "    \"weather\": res_describe_weather,\n",
    "    \"forecast\": res_describe_weather,\n",
    "    \"today's weather\": res_describe_weather,\n",
    "    \"how's the weather\": res_describe_weather,\n",
    "    \"what's the weather like\": res_describe_weather,\n",
    "\n",
    "    \"clothing\": res_clothing,\n",
    "    \"dress\": res_clothing,\n",
    "    \"wear\": res_clothing,\n",
    "    \"what to wear\": res_clothing,\n",
    "    \"should I wear\": res_clothing,\n",
    "    \"clothes\": res_clothing,\n",
    "\n",
    "    \"temperature\": res_temperature,\n",
    "    \"how hot\": res_temperature,\n",
    "    \"how cold\": res_temperature,\n",
    "    \"hot\": res_temperature,\n",
    "    \"cold\": res_temperature,\n",
    "    \"temperature today\": res_temperature,\n",
    "\n",
    "    \"wind\": res_wind,  # 风速\n",
    "    \"wind speed\": res_wind,  # 风速\n",
    "    \"how windy\": res_wind,  # 风大吗\n",
    "    \"windy\": res_wind,  # 风\n",
    "\n",
    "    \"humidity\": res_humidity,  # 湿度\n",
    "    \"how humid\": res_humidity,  # 湿吗\n",
    "    \"humid\": res_humidity  # 湿度\n",
    "}\n",
    "\n",
    "\n",
    "# 输入处理函数\n",
    "def get_weather_response(question):\n",
    "    # 遍历字典进行关键词匹配\n",
    "    for keyword, handler in response_mapping.items():\n",
    "        # re.IGNORECASE 忽略大小写，s?表示匹配单复数\n",
    "        if re.search(r\"\\b\" + re.escape(keyword) + r\"s?\\b\", question, re.IGNORECASE):\n",
    "            return handler()\n",
    "    return \"抱歉，我无法理解您的问题。\"\n",
    "# 断点测试\n",
    "# print(get_weather_response(\"perth\"))\n"
   ],
   "id": "2bcf31ba5f3a00ff",
   "outputs": [],
   "execution_count": 2
  },
  {
   "metadata": {},
   "cell_type": "markdown",
   "source": "### 对获得的天气信息处理为供折线使用的列表数据",
   "id": "16eef0f87c23335c"
  },
  {
   "metadata": {
    "ExecuteTime": {
     "end_time": "2025-05-18T10:39:37.061254Z",
     "start_time": "2025-05-18T10:39:37.047413Z"
    }
   },
   "cell_type": "code",
   "source": [
    "from get_weather_data import get_weather_forecast\n",
    "from natural_language_responses import get_weather_response\n",
    "\n",
    "\n",
    "def get_line_chart_data(questions, city, max_day):  # 传入参数\n",
    "    result, forecast_by_day = get_weather_forecast(city, max_day)  # 获得参数\n",
    "    answer = get_weather_response(questions)  # 获得参数\n",
    "\n",
    "    def handle_pop():\n",
    "        precipitation_list = []\n",
    "        for date, items in forecast_by_day.items():\n",
    "            for item in items:\n",
    "                time = item[0]\n",
    "                pop = item[5]\n",
    "                precipitation_list.append((time, pop))\n",
    "        return precipitation_list\n",
    "\n",
    "        # print(\"处理带伞相关问题。\")\n",
    "\n",
    "    def handle_describe():\n",
    "        precipitation_list = []\n",
    "        for date, items in forecast_by_day.items():\n",
    "            for item in items:\n",
    "                time = item[0]\n",
    "                weather = item[2]\n",
    "                precipitation_list.append((time, weather))\n",
    "        return precipitation_list\n",
    "        # print(\"处理天气描述相关问题。\")\n",
    "\n",
    "    def handle_cloth():\n",
    "        precipitation_list = []\n",
    "        for date, items in forecast_by_day.items():\n",
    "            for item in items:\n",
    "                time = item[0]\n",
    "                temperature = item[1]\n",
    "                precipitation_list.append((time, temperature))\n",
    "        return precipitation_list\n",
    "        # print(\"处理穿衣建议相关问题。\")\n",
    "\n",
    "    def handle_temperature():\n",
    "        precipitation_list = []\n",
    "        for date, items in forecast_by_day.items():\n",
    "            for item in items:\n",
    "                time = item[0]\n",
    "                temperature = item[1]\n",
    "                precipitation_list.append((time, temperature))\n",
    "        return precipitation_list\n",
    "        # print(\"处理温度相关问题。\")\n",
    "\n",
    "    def handle_wind():\n",
    "        precipitation_list = []\n",
    "        for date, items in forecast_by_day.items():\n",
    "            for item in items:\n",
    "                time = item[0]\n",
    "                wind = item[3]\n",
    "                precipitation_list.append((time, wind))\n",
    "        return precipitation_list\n",
    "        # print(\"处理风速相关问题。\")\n",
    "\n",
    "    def handle_humidity():\n",
    "        precipitation_list = []\n",
    "        for date, items in forecast_by_day.items():\n",
    "            for item in items:\n",
    "                time = item[0]\n",
    "                humidity = item[4]\n",
    "                precipitation_list.append((time, humidity))\n",
    "        return precipitation_list\n",
    "        # print(\"处理湿度相关问题。\")\n",
    "\n",
    "    def process_answer(answer):\n",
    "        if answer == \"pop\":\n",
    "            index = 1\n",
    "            return handle_pop(),index,answer\n",
    "        elif answer == \"describe\":\n",
    "            index = 1\n",
    "            return handle_describe(),index,answer\n",
    "        elif answer == \"cloth\":\n",
    "            index = 1\n",
    "            return handle_cloth(),index,answer\n",
    "        elif answer == \"temperature\":\n",
    "            index = 1\n",
    "            return handle_temperature(),index,answer\n",
    "        elif answer == \"wind\":\n",
    "            index = 1\n",
    "            return handle_wind(),index,answer\n",
    "        elif answer == \"humidity\":\n",
    "            index = 1\n",
    "            return handle_humidity(),index,answer\n",
    "        else:\n",
    "            index = 0\n",
    "            lines = [\"您的问题有些模糊。给您提供全部数据的简单描述，如需折线图，请具体询问：如“天气怎么样，是否会降水”\"]\n",
    "            for day in result['forecast']:\n",
    "                lines.append(\n",
    "                    f\"日期：{day['date']},天气情况：{day['description']},气温：{day['temperature']}°C,\"\n",
    "                    f\"风速:{day['speed']}, 湿度:{day['humidity']},降水率:{day['pop']}\"\n",
    "                )\n",
    "            answer = \"null\"\n",
    "            return lines, index,answer\n",
    "\n",
    "    return process_answer(answer)  # 关键补充：外层返回结果\n",
    "\n",
    "\n",
    "\n"
   ],
   "id": "1f22e591defa3834",
   "outputs": [],
   "execution_count": 3
  },
  {
   "metadata": {},
   "cell_type": "markdown",
   "source": "### 生成折线图",
   "id": "59b75bdc275341a2"
  },
  {
   "metadata": {
    "ExecuteTime": {
     "end_time": "2025-05-18T10:39:38.117262Z",
     "start_time": "2025-05-18T10:39:37.115299Z"
    }
   },
   "cell_type": "code",
   "source": [
    "from pygments.lexers import go\n",
    "import matplotlib.pyplot as plt\n",
    "import matplotlib.dates as mdates\n",
    "from datetime import datetime\n",
    "import plotly.graph_objects as go\n",
    "\n",
    "def line_chart(questions, city, max_day):\n",
    "    data, index,answer = get_line_chart_data(questions, city, max_day) #获取数据\n",
    "    if index == 0: #没有返回数据，仅输出\n",
    "        print(\"\\n\".join(data))\n",
    "    else:\n",
    "        print(\"1\")\n",
    "        title_of_image = \"null\"\n",
    "        if answer == \"pop\":\n",
    "            title_of_image = \"Rainfall prediction chart\"\n",
    "        elif answer == \"describe\":\n",
    "            title_of_image = \"Rainfall prediction chart\"\n",
    "        elif answer == \"cloth\":\n",
    "            title_of_image = \"Rainfall prediction chart\"\n",
    "        elif answer == \"temperature\":\n",
    "            title_of_image = \"Rainfall prediction chart\"\n",
    "        elif answer == \"wind\":\n",
    "            title_of_image = \"Rainfall prediction chart\"\n",
    "        elif answer == \"humidity\":\n",
    "            title_of_image = \"Rainfall prediction chart\"\n",
    "        print(f\"您询问的问题与{answer}相关正在生成折线图\")\n",
    "        times = [datetime.strptime(item[0], \"%Y-%m-%d %H:%M:%S\") for item in data]\n",
    "        values = [item[1] for item in data]\n",
    "\n",
    "        # 使用 Plotly 创建交互式图表\n",
    "        fig = go.Figure()\n",
    "\n",
    "        # 添加数据到图表\n",
    "        fig.add_trace(go.Scatter(x=times, y=values, mode='lines+markers', name='Precipitation Probability'))\n",
    "\n",
    "        # 更新布局\n",
    "        fig.update_layout(\n",
    "            title=\"Precipitation Over Time\",\n",
    "            xaxis_title=\"Date and Time\",\n",
    "            yaxis_title=\"Precipitation Probability\",\n",
    "            xaxis=dict(tickformat=\"%Y-%m-%d %H:%M:%S\", tickangle=45),\n",
    "            autosize=True\n",
    "        )\n",
    "\n",
    "        # 显示图表\n",
    "        fig.show()"
   ],
   "id": "c5d83265ba83334d",
   "outputs": [],
   "execution_count": 4
  },
  {
   "metadata": {},
   "cell_type": "markdown",
   "source": "### 主函数",
   "id": "c153d24279c0f598"
  },
  {
   "metadata": {
    "ExecuteTime": {
     "end_time": "2025-05-18T10:39:38.773727Z",
     "start_time": "2025-05-18T10:39:38.130196Z"
    }
   },
   "cell_type": "code",
   "source": [
    "from line_chart_data import get_line_chart_data\n",
    "\n",
    "\n",
    "def main():\n",
    "    line_chart(\"weather\", \"perth\", 5)\n",
    "\n",
    "\n",
    "# better way to run the main code\n",
    "if __name__ == \"__main__\":\n",
    "    main()\n"
   ],
   "id": "38b4fdb3c018a242",
   "outputs": [
    {
     "name": "stdout",
     "output_type": "stream",
     "text": [
      "1\n",
      "您询问的问题与describe相关正在生成折线图\n"
     ]
    },
    {
     "data": {
      "application/vnd.plotly.v1+json": {
       "data": [
        {
         "mode": "lines+markers",
         "name": "Precipitation Probability",
         "x": [
          "2025-05-18T12:00:00",
          "2025-05-18T15:00:00",
          "2025-05-18T18:00:00",
          "2025-05-18T21:00:00",
          "2025-05-19T00:00:00",
          "2025-05-19T03:00:00",
          "2025-05-19T06:00:00",
          "2025-05-19T09:00:00",
          "2025-05-19T12:00:00",
          "2025-05-19T15:00:00",
          "2025-05-19T18:00:00",
          "2025-05-19T21:00:00",
          "2025-05-20T00:00:00",
          "2025-05-20T03:00:00",
          "2025-05-20T06:00:00",
          "2025-05-20T09:00:00",
          "2025-05-20T12:00:00",
          "2025-05-20T15:00:00",
          "2025-05-20T18:00:00",
          "2025-05-20T21:00:00",
          "2025-05-21T00:00:00",
          "2025-05-21T03:00:00",
          "2025-05-21T06:00:00",
          "2025-05-21T09:00:00",
          "2025-05-21T12:00:00",
          "2025-05-21T15:00:00",
          "2025-05-21T18:00:00",
          "2025-05-21T21:00:00",
          "2025-05-22T00:00:00",
          "2025-05-22T03:00:00",
          "2025-05-22T06:00:00",
          "2025-05-22T09:00:00",
          "2025-05-22T12:00:00",
          "2025-05-22T15:00:00",
          "2025-05-22T18:00:00",
          "2025-05-22T21:00:00",
          "2025-05-23T00:00:00",
          "2025-05-23T03:00:00",
          "2025-05-23T06:00:00",
          "2025-05-23T09:00:00"
         ],
         "y": [
          "晴",
          "晴",
          "晴",
          "晴",
          "晴",
          "晴",
          "晴",
          "晴",
          "晴",
          "晴",
          "晴",
          "晴",
          "晴",
          "晴",
          "晴",
          "晴",
          "晴",
          "晴",
          "晴",
          "晴",
          "晴",
          "晴",
          "晴",
          "晴",
          "晴",
          "晴",
          "晴",
          "晴",
          "晴",
          "晴，少云",
          "多云",
          "阴，多云",
          "阴，多云",
          "阴，多云",
          "小雨",
          "中雨",
          "小雨",
          "小雨",
          "小雨",
          "小雨"
         ],
         "type": "scatter"
        }
       ],
       "layout": {
        "template": {
         "data": {
          "histogram2dcontour": [
           {
            "type": "histogram2dcontour",
            "colorbar": {
             "outlinewidth": 0,
             "ticks": ""
            },
            "colorscale": [
             [
              0.0,
              "#0d0887"
             ],
             [
              0.1111111111111111,
              "#46039f"
             ],
             [
              0.2222222222222222,
              "#7201a8"
             ],
             [
              0.3333333333333333,
              "#9c179e"
             ],
             [
              0.4444444444444444,
              "#bd3786"
             ],
             [
              0.5555555555555556,
              "#d8576b"
             ],
             [
              0.6666666666666666,
              "#ed7953"
             ],
             [
              0.7777777777777778,
              "#fb9f3a"
             ],
             [
              0.8888888888888888,
              "#fdca26"
             ],
             [
              1.0,
              "#f0f921"
             ]
            ]
           }
          ],
          "choropleth": [
           {
            "type": "choropleth",
            "colorbar": {
             "outlinewidth": 0,
             "ticks": ""
            }
           }
          ],
          "histogram2d": [
           {
            "type": "histogram2d",
            "colorbar": {
             "outlinewidth": 0,
             "ticks": ""
            },
            "colorscale": [
             [
              0.0,
              "#0d0887"
             ],
             [
              0.1111111111111111,
              "#46039f"
             ],
             [
              0.2222222222222222,
              "#7201a8"
             ],
             [
              0.3333333333333333,
              "#9c179e"
             ],
             [
              0.4444444444444444,
              "#bd3786"
             ],
             [
              0.5555555555555556,
              "#d8576b"
             ],
             [
              0.6666666666666666,
              "#ed7953"
             ],
             [
              0.7777777777777778,
              "#fb9f3a"
             ],
             [
              0.8888888888888888,
              "#fdca26"
             ],
             [
              1.0,
              "#f0f921"
             ]
            ]
           }
          ],
          "heatmap": [
           {
            "type": "heatmap",
            "colorbar": {
             "outlinewidth": 0,
             "ticks": ""
            },
            "colorscale": [
             [
              0.0,
              "#0d0887"
             ],
             [
              0.1111111111111111,
              "#46039f"
             ],
             [
              0.2222222222222222,
              "#7201a8"
             ],
             [
              0.3333333333333333,
              "#9c179e"
             ],
             [
              0.4444444444444444,
              "#bd3786"
             ],
             [
              0.5555555555555556,
              "#d8576b"
             ],
             [
              0.6666666666666666,
              "#ed7953"
             ],
             [
              0.7777777777777778,
              "#fb9f3a"
             ],
             [
              0.8888888888888888,
              "#fdca26"
             ],
             [
              1.0,
              "#f0f921"
             ]
            ]
           }
          ],
          "contourcarpet": [
           {
            "type": "contourcarpet",
            "colorbar": {
             "outlinewidth": 0,
             "ticks": ""
            }
           }
          ],
          "contour": [
           {
            "type": "contour",
            "colorbar": {
             "outlinewidth": 0,
             "ticks": ""
            },
            "colorscale": [
             [
              0.0,
              "#0d0887"
             ],
             [
              0.1111111111111111,
              "#46039f"
             ],
             [
              0.2222222222222222,
              "#7201a8"
             ],
             [
              0.3333333333333333,
              "#9c179e"
             ],
             [
              0.4444444444444444,
              "#bd3786"
             ],
             [
              0.5555555555555556,
              "#d8576b"
             ],
             [
              0.6666666666666666,
              "#ed7953"
             ],
             [
              0.7777777777777778,
              "#fb9f3a"
             ],
             [
              0.8888888888888888,
              "#fdca26"
             ],
             [
              1.0,
              "#f0f921"
             ]
            ]
           }
          ],
          "surface": [
           {
            "type": "surface",
            "colorbar": {
             "outlinewidth": 0,
             "ticks": ""
            },
            "colorscale": [
             [
              0.0,
              "#0d0887"
             ],
             [
              0.1111111111111111,
              "#46039f"
             ],
             [
              0.2222222222222222,
              "#7201a8"
             ],
             [
              0.3333333333333333,
              "#9c179e"
             ],
             [
              0.4444444444444444,
              "#bd3786"
             ],
             [
              0.5555555555555556,
              "#d8576b"
             ],
             [
              0.6666666666666666,
              "#ed7953"
             ],
             [
              0.7777777777777778,
              "#fb9f3a"
             ],
             [
              0.8888888888888888,
              "#fdca26"
             ],
             [
              1.0,
              "#f0f921"
             ]
            ]
           }
          ],
          "mesh3d": [
           {
            "type": "mesh3d",
            "colorbar": {
             "outlinewidth": 0,
             "ticks": ""
            }
           }
          ],
          "scatter": [
           {
            "marker": {
             "line": {
              "color": "#283442"
             }
            },
            "type": "scatter"
           }
          ],
          "parcoords": [
           {
            "type": "parcoords",
            "line": {
             "colorbar": {
              "outlinewidth": 0,
              "ticks": ""
             }
            }
           }
          ],
          "scatterpolargl": [
           {
            "type": "scatterpolargl",
            "marker": {
             "colorbar": {
              "outlinewidth": 0,
              "ticks": ""
             }
            }
           }
          ],
          "bar": [
           {
            "error_x": {
             "color": "#f2f5fa"
            },
            "error_y": {
             "color": "#f2f5fa"
            },
            "marker": {
             "line": {
              "color": "rgb(17,17,17)",
              "width": 0.5
             },
             "pattern": {
              "fillmode": "overlay",
              "size": 10,
              "solidity": 0.2
             }
            },
            "type": "bar"
           }
          ],
          "scattergeo": [
           {
            "type": "scattergeo",
            "marker": {
             "colorbar": {
              "outlinewidth": 0,
              "ticks": ""
             }
            }
           }
          ],
          "scatterpolar": [
           {
            "type": "scatterpolar",
            "marker": {
             "colorbar": {
              "outlinewidth": 0,
              "ticks": ""
             }
            }
           }
          ],
          "histogram": [
           {
            "marker": {
             "pattern": {
              "fillmode": "overlay",
              "size": 10,
              "solidity": 0.2
             }
            },
            "type": "histogram"
           }
          ],
          "scattergl": [
           {
            "marker": {
             "line": {
              "color": "#283442"
             }
            },
            "type": "scattergl"
           }
          ],
          "scatter3d": [
           {
            "type": "scatter3d",
            "line": {
             "colorbar": {
              "outlinewidth": 0,
              "ticks": ""
             }
            },
            "marker": {
             "colorbar": {
              "outlinewidth": 0,
              "ticks": ""
             }
            }
           }
          ],
          "scattermap": [
           {
            "type": "scattermap",
            "marker": {
             "colorbar": {
              "outlinewidth": 0,
              "ticks": ""
             }
            }
           }
          ],
          "scattermapbox": [
           {
            "type": "scattermapbox",
            "marker": {
             "colorbar": {
              "outlinewidth": 0,
              "ticks": ""
             }
            }
           }
          ],
          "scatterternary": [
           {
            "type": "scatterternary",
            "marker": {
             "colorbar": {
              "outlinewidth": 0,
              "ticks": ""
             }
            }
           }
          ],
          "scattercarpet": [
           {
            "type": "scattercarpet",
            "marker": {
             "colorbar": {
              "outlinewidth": 0,
              "ticks": ""
             }
            }
           }
          ],
          "carpet": [
           {
            "aaxis": {
             "endlinecolor": "#A2B1C6",
             "gridcolor": "#506784",
             "linecolor": "#506784",
             "minorgridcolor": "#506784",
             "startlinecolor": "#A2B1C6"
            },
            "baxis": {
             "endlinecolor": "#A2B1C6",
             "gridcolor": "#506784",
             "linecolor": "#506784",
             "minorgridcolor": "#506784",
             "startlinecolor": "#A2B1C6"
            },
            "type": "carpet"
           }
          ],
          "table": [
           {
            "cells": {
             "fill": {
              "color": "#506784"
             },
             "line": {
              "color": "rgb(17,17,17)"
             }
            },
            "header": {
             "fill": {
              "color": "#2a3f5f"
             },
             "line": {
              "color": "rgb(17,17,17)"
             }
            },
            "type": "table"
           }
          ],
          "barpolar": [
           {
            "marker": {
             "line": {
              "color": "rgb(17,17,17)",
              "width": 0.5
             },
             "pattern": {
              "fillmode": "overlay",
              "size": 10,
              "solidity": 0.2
             }
            },
            "type": "barpolar"
           }
          ],
          "pie": [
           {
            "automargin": true,
            "type": "pie"
           }
          ]
         },
         "layout": {
          "autotypenumbers": "strict",
          "colorway": [
           "#636efa",
           "#EF553B",
           "#00cc96",
           "#ab63fa",
           "#FFA15A",
           "#19d3f3",
           "#FF6692",
           "#B6E880",
           "#FF97FF",
           "#FECB52"
          ],
          "font": {
           "color": "#f2f5fa"
          },
          "hovermode": "closest",
          "hoverlabel": {
           "align": "left"
          },
          "paper_bgcolor": "rgb(17,17,17)",
          "plot_bgcolor": "rgb(17,17,17)",
          "polar": {
           "bgcolor": "rgb(17,17,17)",
           "angularaxis": {
            "gridcolor": "#506784",
            "linecolor": "#506784",
            "ticks": ""
           },
           "radialaxis": {
            "gridcolor": "#506784",
            "linecolor": "#506784",
            "ticks": ""
           }
          },
          "ternary": {
           "bgcolor": "rgb(17,17,17)",
           "aaxis": {
            "gridcolor": "#506784",
            "linecolor": "#506784",
            "ticks": ""
           },
           "baxis": {
            "gridcolor": "#506784",
            "linecolor": "#506784",
            "ticks": ""
           },
           "caxis": {
            "gridcolor": "#506784",
            "linecolor": "#506784",
            "ticks": ""
           }
          },
          "coloraxis": {
           "colorbar": {
            "outlinewidth": 0,
            "ticks": ""
           }
          },
          "colorscale": {
           "sequential": [
            [
             0.0,
             "#0d0887"
            ],
            [
             0.1111111111111111,
             "#46039f"
            ],
            [
             0.2222222222222222,
             "#7201a8"
            ],
            [
             0.3333333333333333,
             "#9c179e"
            ],
            [
             0.4444444444444444,
             "#bd3786"
            ],
            [
             0.5555555555555556,
             "#d8576b"
            ],
            [
             0.6666666666666666,
             "#ed7953"
            ],
            [
             0.7777777777777778,
             "#fb9f3a"
            ],
            [
             0.8888888888888888,
             "#fdca26"
            ],
            [
             1.0,
             "#f0f921"
            ]
           ],
           "sequentialminus": [
            [
             0.0,
             "#0d0887"
            ],
            [
             0.1111111111111111,
             "#46039f"
            ],
            [
             0.2222222222222222,
             "#7201a8"
            ],
            [
             0.3333333333333333,
             "#9c179e"
            ],
            [
             0.4444444444444444,
             "#bd3786"
            ],
            [
             0.5555555555555556,
             "#d8576b"
            ],
            [
             0.6666666666666666,
             "#ed7953"
            ],
            [
             0.7777777777777778,
             "#fb9f3a"
            ],
            [
             0.8888888888888888,
             "#fdca26"
            ],
            [
             1.0,
             "#f0f921"
            ]
           ],
           "diverging": [
            [
             0,
             "#8e0152"
            ],
            [
             0.1,
             "#c51b7d"
            ],
            [
             0.2,
             "#de77ae"
            ],
            [
             0.3,
             "#f1b6da"
            ],
            [
             0.4,
             "#fde0ef"
            ],
            [
             0.5,
             "#f7f7f7"
            ],
            [
             0.6,
             "#e6f5d0"
            ],
            [
             0.7,
             "#b8e186"
            ],
            [
             0.8,
             "#7fbc41"
            ],
            [
             0.9,
             "#4d9221"
            ],
            [
             1,
             "#276419"
            ]
           ]
          },
          "xaxis": {
           "gridcolor": "#283442",
           "linecolor": "#506784",
           "ticks": "",
           "title": {
            "standoff": 15
           },
           "zerolinecolor": "#283442",
           "automargin": true,
           "zerolinewidth": 2
          },
          "yaxis": {
           "gridcolor": "#283442",
           "linecolor": "#506784",
           "ticks": "",
           "title": {
            "standoff": 15
           },
           "zerolinecolor": "#283442",
           "automargin": true,
           "zerolinewidth": 2
          },
          "scene": {
           "xaxis": {
            "backgroundcolor": "rgb(17,17,17)",
            "gridcolor": "#506784",
            "linecolor": "#506784",
            "showbackground": true,
            "ticks": "",
            "zerolinecolor": "#C8D4E3",
            "gridwidth": 2
           },
           "yaxis": {
            "backgroundcolor": "rgb(17,17,17)",
            "gridcolor": "#506784",
            "linecolor": "#506784",
            "showbackground": true,
            "ticks": "",
            "zerolinecolor": "#C8D4E3",
            "gridwidth": 2
           },
           "zaxis": {
            "backgroundcolor": "rgb(17,17,17)",
            "gridcolor": "#506784",
            "linecolor": "#506784",
            "showbackground": true,
            "ticks": "",
            "zerolinecolor": "#C8D4E3",
            "gridwidth": 2
           }
          },
          "shapedefaults": {
           "line": {
            "color": "#f2f5fa"
           }
          },
          "annotationdefaults": {
           "arrowcolor": "#f2f5fa",
           "arrowhead": 0,
           "arrowwidth": 1
          },
          "geo": {
           "bgcolor": "rgb(17,17,17)",
           "landcolor": "rgb(17,17,17)",
           "subunitcolor": "#506784",
           "showland": true,
           "showlakes": true,
           "lakecolor": "rgb(17,17,17)"
          },
          "title": {
           "x": 0.05
          },
          "updatemenudefaults": {
           "bgcolor": "#506784",
           "borderwidth": 0
          },
          "sliderdefaults": {
           "bgcolor": "#C8D4E3",
           "borderwidth": 1,
           "bordercolor": "rgb(17,17,17)",
           "tickwidth": 0
          },
          "mapbox": {
           "style": "dark"
          }
         }
        },
        "xaxis": {
         "title": {
          "text": "Date and Time"
         },
         "tickformat": "%Y-%m-%d %H:%M:%S",
         "tickangle": 45
        },
        "title": {
         "text": "Precipitation Over Time"
        },
        "yaxis": {
         "title": {
          "text": "Precipitation Probability"
         }
        },
        "autosize": true
       },
       "config": {
        "plotlyServerURL": "https://plot.ly"
       }
      }
     },
     "metadata": {},
     "output_type": "display_data"
    }
   ],
   "execution_count": 5
  },
  {
   "metadata": {
    "ExecuteTime": {
     "end_time": "2025-05-18T10:39:38.812163Z",
     "start_time": "2025-05-18T10:39:38.800675Z"
    }
   },
   "cell_type": "code",
   "source": "",
   "id": "c9f0d503c9908fbc",
   "outputs": [],
   "execution_count": null
  }
 ],
 "metadata": {},
 "nbformat": 4,
 "nbformat_minor": 5
}
